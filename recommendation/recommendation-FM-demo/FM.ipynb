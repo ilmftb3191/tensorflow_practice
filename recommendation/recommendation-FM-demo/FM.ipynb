{
 "cells": [
  {
   "cell_type": "code",
   "execution_count": 1,
   "metadata": {},
   "outputs": [],
   "source": [
    "import numpy as np\n",
    "import pandas as pd\n",
    "import tensorflow as tf"
   ]
  },
  {
   "cell_type": "code",
   "execution_count": 2,
   "metadata": {},
   "outputs": [],
   "source": [
    "cols = ['user','item','rating','timestamp']\n",
    "\n",
    "train = pd.read_csv('data/ua.base',delimiter='\\t',names = cols)\n",
    "test = pd.read_csv('data/ua.test',delimiter='\\t',names = cols)"
   ]
  },
  {
   "cell_type": "code",
   "execution_count": 3,
   "metadata": {},
   "outputs": [],
   "source": [
    "from sklearn.feature_extraction import DictVectorizer\n",
    "from scipy.sparse import csr\n",
    "\n",
    "def vectorize_dic(dic,ix=None,p=None,n=0,g=0):\n",
    "    \"\"\"\n",
    "    dic -- dictionary of feature lists. Keys are the name of features\n",
    "    ix -- index generator (default None)\n",
    "    p -- dimension of feature space (number of columns in the sparse matrix) (default None)\n",
    "    \"\"\"\n",
    "    if ix==None:\n",
    "        ix = dict()\n",
    "\n",
    "    nz = n * g\n",
    "\n",
    "    col_ix = np.empty(nz,dtype = int)\n",
    "\n",
    "    i = 0\n",
    "    for k,lis in dic.items():\n",
    "        for t in range(len(lis)):\n",
    "            ix[str(lis[t]) + str(k)] = ix.get(str(lis[t]) + str(k),0) + 1\n",
    "            col_ix[i+t*g] = ix[str(lis[t]) + str(k)]\n",
    "        i += 1\n",
    "\n",
    "    row_ix = np.repeat(np.arange(0,n),g)\n",
    "    data = np.ones(nz)\n",
    "    if p == None:\n",
    "        p = len(ix)\n",
    "\n",
    "    ixx = np.where(col_ix < p)\n",
    "    return csr.csr_matrix((data[ixx],(row_ix[ixx],col_ix[ixx])),shape=(n,p)),ix\n",
    "\n",
    "\n",
    "def batcher(X_, y_=None, batch_size=-1):\n",
    "    n_samples = X_.shape[0]\n",
    "\n",
    "    if batch_size == -1:\n",
    "        batch_size = n_samples\n",
    "    if batch_size < 1:\n",
    "       raise ValueError('Parameter batch_size={} is unsupported'.format(batch_size))\n",
    "\n",
    "    for i in range(0, n_samples, batch_size):\n",
    "        upper_bound = min(i + batch_size, n_samples)\n",
    "        ret_x = X_[i:upper_bound]\n",
    "        ret_y = None\n",
    "        if y_ is not None:\n",
    "            ret_y = y_[i:i + batch_size]\n",
    "            yield (ret_x, ret_y)"
   ]
  },
  {
   "cell_type": "code",
   "execution_count": 4,
   "metadata": {},
   "outputs": [],
   "source": [
    "x_train,ix = vectorize_dic({'users':train['user'].values,\n",
    "                            'items':train['item'].values},n=len(train.index),g=2)\n",
    "\n",
    "x_test,ix = vectorize_dic({'users':test['user'].values,\n",
    "                           'items':test['item'].values},ix,x_train.shape[1],n=len(test.index),g=2)\n",
    "\n",
    "y_train = train['rating'].values\n",
    "y_test = test['rating'].values\n",
    "\n",
    "x_train = x_train.todense()\n",
    "x_test = x_test.todense()\n"
   ]
  },
  {
   "cell_type": "code",
   "execution_count": 5,
   "metadata": {},
   "outputs": [],
   "source": [
    "n,p = x_train.shape\n",
    "\n",
    "# length of embedding vector\n",
    "k = 10 \n",
    "\n",
    "x = tf.placeholder('float',[None,p])\n",
    "y = tf.placeholder('float',[None,1])\n",
    "\n",
    "w0 = tf.Variable(tf.zeros([1]))\n",
    "w = tf.Variable(tf.zeros([p]))\n",
    "v = tf.Variable(tf.random_normal([k,p],mean=0,stddev=0.01))"
   ]
  },
  {
   "cell_type": "code",
   "execution_count": 6,
   "metadata": {},
   "outputs": [],
   "source": [
    "linear_term = tf.add(w0, tf.reduce_sum(tf.multiply(w,x), axis=1, keepdims=True))"
   ]
  },
  {
   "cell_type": "code",
   "execution_count": 7,
   "metadata": {},
   "outputs": [],
   "source": [
    "interaction_term = 0.5 * tf.reduce_sum(\n",
    "    tf.subtract(\n",
    "        tf.pow(tf.matmul(x, tf.transpose(v)), 2),\n",
    "        tf.matmul(tf.pow(x,2), tf.transpose(tf.pow(v, 2)))\n",
    "    ), axis=1, keepdims=True)"
   ]
  },
  {
   "cell_type": "code",
   "execution_count": 8,
   "metadata": {},
   "outputs": [],
   "source": [
    "y_hat = tf.add(linear_term, interaction_term)"
   ]
  },
  {
   "cell_type": "code",
   "execution_count": 13,
   "metadata": {},
   "outputs": [],
   "source": [
    "lambda_w = tf.constant(0.001, name='lambda_w')\n",
    "lambda_v = tf.constant(0.001, name='lambda_v')\n",
    "\n",
    "l2_norm = tf.reduce_sum(\n",
    "    tf.add(\n",
    "        tf.multiply(lambda_w,tf.pow(w,2)),\n",
    "        tf.multiply(lambda_v,tf.pow(v,2))\n",
    "    )\n",
    ")"
   ]
  },
  {
   "cell_type": "code",
   "execution_count": 14,
   "metadata": {},
   "outputs": [],
   "source": [
    "error = tf.reduce_mean(tf.square(y-y_hat))\n",
    "loss = tf.add(error, l2_norm)\n",
    "train_op = tf.train.GradientDescentOptimizer(learning_rate=0.01).minimize(loss)"
   ]
  },
  {
   "cell_type": "code",
   "execution_count": 31,
   "metadata": {
    "scrolled": false
   },
   "outputs": [
    {
     "name": "stdout",
     "output_type": "stream",
     "text": [
      "Loss=11.679044\n",
      "Loss=8.141493\n",
      "Loss=5.802639\n",
      "Loss=4.271319\n",
      "Loss=3.261834\n",
      "Loss=2.584970\n",
      "Loss=2.141384\n",
      "Loss=1.841594\n",
      "Loss=1.651988\n",
      "Loss=1.526650\n",
      "RMSE=1.241742\n"
     ]
    }
   ],
   "source": [
    "epochs = 10\n",
    "batch_size = 10000\n",
    "\n",
    "with tf.Session() as sess:\n",
    "    sess.run(tf.global_variables_initializer())\n",
    "    \n",
    "    for epoch in range(epochs):\n",
    "        perm = np.random.permutation(x_train.shape[0])\n",
    "        losses = []\n",
    "        for bX, bY in batcher(x_train[perm], y_train[perm], batch_size):\n",
    "            _, t = sess.run([train_op, loss], feed_dict={x: bX, y: bY.reshape(-1, 1)})\n",
    "            losses.append(t)\n",
    "        losses = np.array(losses)\n",
    "        print('Loss=%f' % losses.mean())\n",
    "    \n",
    "    errors = []\n",
    "    for bX, bY in batcher(x_test, y_test):\n",
    "        errors.append(sess.run(error, feed_dict={x: bX, y: bY.reshape(-1, 1)}))\n",
    "    RMSE = np.sqrt(np.array(errors).mean())\n",
    "    print ('RMSE=%f' % RMSE)\n",
    "        \n",
    "        "
   ]
  },
  {
   "cell_type": "code",
   "execution_count": 25,
   "metadata": {},
   "outputs": [],
   "source": [
    "generator = batcher(x_train, y_train, 100)\n",
    "bx, by = next(generator)"
   ]
  },
  {
   "cell_type": "code",
   "execution_count": 30,
   "metadata": {},
   "outputs": [
    {
     "data": {
      "text/plain": [
       "(100, 1)"
      ]
     },
     "execution_count": 30,
     "metadata": {},
     "output_type": "execute_result"
    }
   ],
   "source": [
    "by.reshape(-1, 1).shape"
   ]
  },
  {
   "cell_type": "code",
   "execution_count": null,
   "metadata": {},
   "outputs": [],
   "source": []
  }
 ],
 "metadata": {
  "kernelspec": {
   "display_name": "Python 3",
   "language": "python",
   "name": "python3"
  },
  "language_info": {
   "codemirror_mode": {
    "name": "ipython",
    "version": 3
   },
   "file_extension": ".py",
   "mimetype": "text/x-python",
   "name": "python",
   "nbconvert_exporter": "python",
   "pygments_lexer": "ipython3",
   "version": "3.6.7"
  }
 },
 "nbformat": 4,
 "nbformat_minor": 2
}
